{
 "cells": [
  {
   "cell_type": "markdown",
   "id": "053524bd",
   "metadata": {},
   "source": [
    "# Sample Jupyter Notebook File"
   ]
  },
  {
   "cell_type": "markdown",
   "id": "158202f6",
   "metadata": {},
   "source": [
    "## Sub-Heading or Level 2 Heading"
   ]
  },
  {
   "cell_type": "raw",
   "id": "15348e8b",
   "metadata": {},
   "source": [
    "This is a sample notebook for Python programming."
   ]
  },
  {
   "cell_type": "markdown",
   "id": "8ed13ca4",
   "metadata": {},
   "source": [
    "This is a sample notebook for Python programming."
   ]
  },
  {
   "cell_type": "code",
   "execution_count": null,
   "id": "e88c87f4",
   "metadata": {},
   "outputs": [],
   "source": [
    "!dir"
   ]
  },
  {
   "cell_type": "code",
   "execution_count": null,
   "id": "bd0257e2",
   "metadata": {
    "scrolled": true
   },
   "outputs": [],
   "source": [
    "!pip3 install numpy matplotlib"
   ]
  },
  {
   "cell_type": "code",
   "execution_count": null,
   "id": "c04b97b0",
   "metadata": {},
   "outputs": [],
   "source": [
    "%matplotlib inline\n",
    "import matplotlib.pyplot as plt"
   ]
  },
  {
   "cell_type": "code",
   "execution_count": null,
   "id": "c8fa4b05",
   "metadata": {},
   "outputs": [],
   "source": [
    "plt.plot([1, 2, 3], [1, 2, 3])\n",
    "plt.show()"
   ]
  },
  {
   "cell_type": "code",
   "execution_count": null,
   "id": "8dc8f728",
   "metadata": {},
   "outputs": [],
   "source": [
    "!pip3 install pyqt5"
   ]
  },
  {
   "cell_type": "code",
   "execution_count": null,
   "id": "b9172e51",
   "metadata": {},
   "outputs": [],
   "source": [
    "#%matplotlib qt\n",
    "plt.show()"
   ]
  },
  {
   "cell_type": "code",
   "execution_count": null,
   "id": "d7b7936e",
   "metadata": {},
   "outputs": [],
   "source": [
    "%matplotlib inline\n",
    "plt.show()"
   ]
  },
  {
   "cell_type": "code",
   "execution_count": null,
   "id": "874685fd",
   "metadata": {},
   "outputs": [],
   "source": []
  },
  {
   "cell_type": "code",
   "execution_count": null,
   "id": "07bc924c",
   "metadata": {},
   "outputs": [],
   "source": []
  }
 ],
 "metadata": {
  "kernelspec": {
   "display_name": "Python 3 (ipykernel)",
   "language": "python",
   "name": "python3"
  },
  "language_info": {
   "codemirror_mode": {
    "name": "ipython",
    "version": 3
   },
   "file_extension": ".py",
   "mimetype": "text/x-python",
   "name": "python",
   "nbconvert_exporter": "python",
   "pygments_lexer": "ipython3",
   "version": "3.9.9"
  }
 },
 "nbformat": 4,
 "nbformat_minor": 5
}
